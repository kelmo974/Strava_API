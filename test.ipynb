{
 "cells": [
  {
   "cell_type": "code",
   "execution_count": 37,
   "metadata": {},
   "outputs": [],
   "source": [
    "import requests\n",
    "import os\n",
    "from dotenv import load_dotenv\n",
    "import json\n",
    "import pandas as pd"
   ]
  },
  {
   "cell_type": "code",
   "execution_count": 38,
   "metadata": {},
   "outputs": [
    {
     "data": {
      "text/plain": [
       "True"
      ]
     },
     "execution_count": 38,
     "metadata": {},
     "output_type": "execute_result"
    }
   ],
   "source": [
    "load_dotenv()"
   ]
  },
  {
   "cell_type": "code",
   "execution_count": 39,
   "metadata": {},
   "outputs": [
    {
     "name": "stdout",
     "output_type": "stream",
     "text": [
      "e03082925525ef032c02855c5caea26a120429f8\n"
     ]
    }
   ],
   "source": [
    "customer_id = os.getenv(\"customer_id\")\n",
    "customer_secret = os.getenv(\"customer_secret\")\n",
    "refresh_token = os.getenv(\"refresh_token\")\n",
    "print(refresh_token)"
   ]
  },
  {
   "cell_type": "code",
   "execution_count": 40,
   "metadata": {},
   "outputs": [],
   "source": [
    "if not all([customer_id, customer_secret, refresh_token]):\n",
    "    raise ValueError(\"Missing Strava API Credentials from .env file\")"
   ]
  },
  {
   "cell_type": "code",
   "execution_count": 41,
   "metadata": {},
   "outputs": [],
   "source": [
    "token_url = \"https://www.strava.com/oauth/token\"\n",
    "activities_url = \"https://www.strava.com/api/v3/athlete/activities\""
   ]
  },
  {
   "cell_type": "code",
   "execution_count": 42,
   "metadata": {},
   "outputs": [],
   "source": [
    "# def refresh_access_token():\n",
    "#     \"\"\"Refreshes the access token using the refresh token.\"\"\"\n",
    "#     payload = {\n",
    "#         \"client_id\": customer_id,\n",
    "#         \"client_secret\": customer_secret,\n",
    "#         \"grant_type\": \"refresh_token\",\n",
    "#         \"refresh_token\": refresh_token,\n",
    "#     }\n",
    "\n",
    "#     try:\n",
    "#         response = requests.post(token_url, data=payload)\n",
    "#         response.raise_for_status()\n",
    "#         token_data = response.json()\n",
    "#         access_token = token_data[\"access_token\"]\n",
    "#         return access_token\n",
    "#     except requests.exceptions.RequestException as e:\n",
    "#         print(f\"Error refreshing access token: {e}\")\n",
    "#         return None \n"
   ]
  },
  {
   "cell_type": "code",
   "execution_count": 43,
   "metadata": {},
   "outputs": [],
   "source": [
    "def refresh_access_token():\n",
    "    \"\"\"Refreshes the access token and prints scope information.\"\"\"\n",
    "    payload = {\n",
    "        \"client_id\": customer_id,\n",
    "        \"client_secret\": customer_secret,\n",
    "        \"grant_type\": \"refresh_token\",\n",
    "        \"refresh_token\": refresh_token,\n",
    "    }\n",
    "\n",
    "    try:\n",
    "        response = requests.post(token_url, data=payload)\n",
    "        response.raise_for_status()\n",
    "\n",
    "        token_data = response.json()\n",
    "        print(json.dumps(token_data, indent=4))  # Print the FULL response for debugging\n",
    "\n",
    "        access_token = token_data.get(\"access_token\")  # Safer dictionary access\n",
    "        scopes = token_data.get(\"scope\") # Get the scope. It can be a string or a list\n",
    "        print(f\"Access Token Scopes: {scopes}\")  # Print the scopes\n",
    "\n",
    "        return access_token\n",
    "\n",
    "    except requests.exceptions.RequestException as e:\n",
    "        print(f\"Error refreshing access token: {e}\")\n",
    "        try:\n",
    "            error_data = response.json()\n",
    "            print(f\"Strava API Error Details: {json.dumps(error_data, indent=4)}\")\n",
    "        except json.JSONDecodeError:\n",
    "            print(f\"Error response content: {response.text}\")\n",
    "        return None"
   ]
  },
  {
   "cell_type": "code",
   "execution_count": 44,
   "metadata": {},
   "outputs": [],
   "source": [
    "# def get_strava_activities(access_token, per_page=30):\n",
    "#     \"\"\"Retrieves Strava activities.\"\"\"\n",
    "#     headers = {\"Authorization\": f\"Bearer {access_token}\"}\n",
    "#     params = {\"per_page\": per_page}\n",
    "\n",
    "#     try:\n",
    "#         response = requests.get(activities_url, headers=headers, params=params)\n",
    "#         response.raise_for_status()\n",
    "#         activities = response.json()\n",
    "#         return activities\n",
    "#     except requests.exceptions.RequestException as e:\n",
    "#         print(f\"Error getting activities: {e}\")\n",
    "#         return None\n",
    "\n",
    "# if __name__ == \"__main__\":\n",
    "#     access_token = refresh_access_token()\n",
    "\n",
    "#     if access_token:\n",
    "#         activities = get_strava_activities(access_token)\n",
    "\n",
    "#         if activities:\n",
    "#             print(\"Successfully retrieved activities!\")\n",
    "#             #print(json.dumps(activities, indent=4))  # Pretty print JSON for inspection\n",
    "\n",
    "#             for activity in activities:\n",
    "#                 print(activity.get(\"name\", \"Unknown Activity\"))\n",
    "\n",
    "#             # Now you have the activities list; proceed with your analysis.\n",
    "\n",
    "#         else:\n",
    "#             print(\"Failed to retrieve activities.\")\n",
    "#     else:\n",
    "#         print(\"Failed to refresh access token.\")"
   ]
  },
  {
   "cell_type": "code",
   "execution_count": 45,
   "metadata": {},
   "outputs": [
    {
     "name": "stdout",
     "output_type": "stream",
     "text": [
      "{\n",
      "    \"token_type\": \"Bearer\",\n",
      "    \"access_token\": \"59b6f758be1c8874f3f29d553baf81c690eebc07\",\n",
      "    \"expires_at\": 1740366176,\n",
      "    \"expires_in\": 20453,\n",
      "    \"refresh_token\": \"e03082925525ef032c02855c5caea26a120429f8\"\n",
      "}\n",
      "Access Token Scopes: None\n",
      "Error getting activities: 401 Client Error: Unauthorized for url: https://www.strava.com/api/v3/athlete/activities?per_page=30\n",
      "Strava API Error Details: {\n",
      "    \"message\": \"Authorization Error\",\n",
      "    \"errors\": [\n",
      "        {\n",
      "            \"resource\": \"AccessToken\",\n",
      "            \"field\": \"activity:read_permission\",\n",
      "            \"code\": \"missing\"\n",
      "        }\n",
      "    ]\n",
      "}\n",
      "Failed to retrieve activities due to API error.\n"
     ]
    }
   ],
   "source": [
    "def get_strava_activities(access_token, per_page=30):\n",
    "    headers = {\"Authorization\": f\"Bearer {access_token}\"}\n",
    "    params = {\"per_page\": per_page}\n",
    "\n",
    "    try:\n",
    "        response = requests.get(activities_url, headers=headers, params=params)\n",
    "        response.raise_for_status()  # Check for HTTP errors\n",
    "\n",
    "        activities = response.json()\n",
    "\n",
    "        if activities:  # Check if the activities list is not empty\n",
    "            return activities\n",
    "        else:\n",
    "            print(\"No activities found.\") # Explicitly print if no activities\n",
    "            return []  # Return an empty list\n",
    "\n",
    "    except requests.exceptions.RequestException as e:\n",
    "        print(f\"Error getting activities: {e}\")\n",
    "        if response.status_code != 200: # Check for non-200 status codes\n",
    "            try:\n",
    "                error_data = response.json()  # Attempt to parse JSON error response\n",
    "                print(f\"Strava API Error Details: {json.dumps(error_data, indent=4)}\") # Print the error details\n",
    "            except json.JSONDecodeError:\n",
    "                print(f\"Error response content: {response.text}\") # Print raw text if not JSON\n",
    "        return None\n",
    "\n",
    "if __name__ == \"__main__\":\n",
    "    access_token = refresh_access_token()\n",
    "\n",
    "    if access_token:\n",
    "        activities = get_strava_activities(access_token)\n",
    "\n",
    "        if activities is not None:  # Check for None (API error)\n",
    "            if activities: # Check if list is not empty\n",
    "                print(\"Successfully retrieved activities!\")\n",
    "                #print(json.dumps(activities, indent=4))  # Pretty print JSON for inspection\n",
    "\n",
    "                for activity in activities:\n",
    "                    print(activity.get(\"name\", \"Unknown Activity\"))\n",
    "            else:\n",
    "                print(\"No activities returned.\") # Explicitly state no activities\n",
    "        else:\n",
    "            print(\"Failed to retrieve activities due to API error.\") # Indicate API error\n",
    "    else:\n",
    "        print(\"Failed to refresh access token.\")\n"
   ]
  },
  {
   "cell_type": "code",
   "execution_count": 46,
   "metadata": {},
   "outputs": [
    {
     "name": "stdout",
     "output_type": "stream",
     "text": [
      "Authorization URL: https://www.strava.com/oauth/authorize?client_id=101544&redirect_uri=http://localhost:8000/callback&response_type=code&scope=activity:read\n"
     ]
    }
   ],
   "source": [
    "authorization_url = f\"https://www.strava.com/oauth/authorize?client_id={101544}&redirect_uri=http://localhost:8000/callback&response_type=code&scope=activity:read\"\n",
    "print(f\"Authorization URL: {authorization_url}\")"
   ]
  },
  {
   "cell_type": "code",
   "execution_count": null,
   "metadata": {},
   "outputs": [],
   "source": [
    "https://www.strava.com/oauth/authorize?client_id=<your_client_id>&redirect_uri=http://localhost:8000&response_type=code&scope=activity:read"
   ]
  }
 ],
 "metadata": {
  "kernelspec": {
   "display_name": ".venv",
   "language": "python",
   "name": "python3"
  },
  "language_info": {
   "codemirror_mode": {
    "name": "ipython",
    "version": 3
   },
   "file_extension": ".py",
   "mimetype": "text/x-python",
   "name": "python",
   "nbconvert_exporter": "python",
   "pygments_lexer": "ipython3",
   "version": "3.13.2"
  }
 },
 "nbformat": 4,
 "nbformat_minor": 2
}
